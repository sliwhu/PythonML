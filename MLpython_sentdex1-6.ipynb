{
 "cells": [
  {
   "cell_type": "code",
   "execution_count": 1,
   "metadata": {
    "collapsed": false
   },
   "outputs": [
    {
     "name": "stdout",
     "output_type": "stream",
     "text": [
      "              Open    High     Low    Close      Volume  Ex-Dividend  \\\n",
      "Date                                                                   \n",
      "2004-08-19  100.01  104.06   95.96  100.335  44659000.0          0.0   \n",
      "2004-08-20  101.01  109.08  100.50  108.310  22834300.0          0.0   \n",
      "2004-08-23  110.76  113.48  109.05  109.400  18256100.0          0.0   \n",
      "2004-08-24  111.24  111.60  103.57  104.870  15247300.0          0.0   \n",
      "2004-08-25  104.76  108.00  103.88  106.000   9188600.0          0.0   \n",
      "\n",
      "            Split Ratio  Adj. Open  Adj. High   Adj. Low  Adj. Close  \\\n",
      "Date                                                                   \n",
      "2004-08-19          1.0  50.159839  52.191109  48.128568   50.322842   \n",
      "2004-08-20          1.0  50.661387  54.708881  50.405597   54.322689   \n",
      "2004-08-23          1.0  55.551482  56.915693  54.693835   54.869377   \n",
      "2004-08-24          1.0  55.792225  55.972783  51.945350   52.597363   \n",
      "2004-08-25          1.0  52.542193  54.167209  52.100830   53.164113   \n",
      "\n",
      "            Adj. Volume  \n",
      "Date                     \n",
      "2004-08-19   44659000.0  \n",
      "2004-08-20   22834300.0  \n",
      "2004-08-23   18256100.0  \n",
      "2004-08-24   15247300.0  \n",
      "2004-08-25    9188600.0  \n"
     ]
    }
   ],
   "source": [
    "#Regression Intro, quandl.com\n",
    "import pandas as pd\n",
    "import quandl\n",
    "import math, datetime\n",
    "import numpy as np\n",
    "#svm, support vector machine, can be used to do regression\n",
    "from sklearn import preprocessing, cross_validation, svm\n",
    "from sklearn.linear_model import LinearRegression\n",
    "import matplotlib.pyplot as plt\n",
    "from matplotlib import style\n",
    "import pickle\n",
    "style.use(\"ggplot\")\n",
    "\n",
    "#quandl.get() default returns a pandas dataframe\n",
    "df=quandl.get(\"WIKI/GOOGL\")\n",
    "print (df.head())"
   ]
  },
  {
   "cell_type": "code",
   "execution_count": 2,
   "metadata": {
    "collapsed": false
   },
   "outputs": [],
   "source": [
    "df=df[[\"Adj. Open\", \"Adj. High\", \"Adj. Low\", \"Adj. Close\", \"Adj. Volume\"]]"
   ]
  },
  {
   "cell_type": "code",
   "execution_count": 3,
   "metadata": {
    "collapsed": false
   },
   "outputs": [
    {
     "name": "stdout",
     "output_type": "stream",
     "text": [
      "            Adj. Close    HL_PCT  PCT_change  Adj. Volume\n",
      "Date                                                     \n",
      "2004-08-19   50.322842  8.441017    0.324968   44659000.0\n",
      "2004-08-20   54.322689  8.537313    7.227007   22834300.0\n",
      "2004-08-23   54.869377  4.062357   -1.227880   18256100.0\n",
      "2004-08-24   52.597363  7.753210   -5.726357   15247300.0\n",
      "2004-08-25   53.164113  3.966115    1.183658    9188600.0\n"
     ]
    }
   ],
   "source": [
    "#high-low percent change\n",
    "df[\"HL_PCT\"]=(df[\"Adj. High\"]-df[\"Adj. Low\"])/df[\"Adj. Low\"]*100\n",
    "df[\"PCT_change\"]=(df[\"Adj. Close\"]-df[\"Adj. Open\"])/df[\"Adj. Open\"]*100\n",
    "\n",
    "df=df[[\"Adj. Close\", \"HL_PCT\", \"PCT_change\", \"Adj. Volume\"]]\n",
    "print (df.head())"
   ]
  },
  {
   "cell_type": "code",
   "execution_count": 4,
   "metadata": {
    "collapsed": true
   },
   "outputs": [],
   "source": [
    "forecast_col=\"Adj. Close\"\n",
    "df.fillna(-99999, inplace=True) \n",
    "#predict 1% of the dataframe\n",
    "forecast_out=int(math.ceil(0.01*len(df)))\n"
   ]
  },
  {
   "cell_type": "code",
   "execution_count": 5,
   "metadata": {
    "collapsed": false
   },
   "outputs": [
    {
     "name": "stdout",
     "output_type": "stream",
     "text": [
      "            Adj. Close    HL_PCT  PCT_change  Adj. Volume      label\n",
      "Date                                                                \n",
      "2004-08-19   50.322842  8.441017    0.324968   44659000.0  69.399229\n",
      "2004-08-20   54.322689  8.537313    7.227007   22834300.0  68.752232\n",
      "2004-08-23   54.869377  4.062357   -1.227880   18256100.0  69.639972\n",
      "2004-08-24   52.597363  7.753210   -5.726357   15247300.0  69.078238\n",
      "2004-08-25   53.164113  3.966115    1.183658    9188600.0  67.839414\n",
      "            Adj. Close    HL_PCT  PCT_change  Adj. Volume  label\n",
      "Date                                                            \n",
      "2016-12-19      812.50  1.456805    0.397885    1257536.0    NaN\n",
      "2016-12-20      815.20  0.676942    0.224990    1253123.0    NaN\n",
      "2016-12-21      812.20  1.319091   -0.431521    1450499.0    NaN\n",
      "2016-12-22      809.68  0.625287    0.071685    1123874.0    NaN\n",
      "2016-12-23      807.80  0.727801   -0.025990     762046.0    NaN\n"
     ]
    }
   ],
   "source": [
    "#Here we're taking 0.01 or 1% of the length of all the rows within the dataframe. Each row in the dataFrame is representative of a day\n",
    "#in the life of the stock. So if the stock has been trading for 365 days, there will be 365 rows in the dataFrame. 1% of 365 is \n",
    "#3.65 days which is then rounded up by the math.ceil function to 4 days. The 4 days will be the forecast _out variable which is \n",
    "#the variable that used to shift the Adj.Close price column in the dataFame up by 4. In other words, if you were standing at day\n",
    "#1 of the stock when it was first traded, the prediction or the 'label' from his algorithm would tell you that at day 4, your \n",
    "#stock will be valued at the amount of the close as taken on day 4 from actual data. T\n",
    "#his isn't totally useful information since you can look at the Adj.Close column on day 4 to get back to the label info on day 1. \n",
    "#This is really all done to build a training set so that the machine can learn from the trend.\n",
    "#It means forecast out variable will have NA values after day 361?\n",
    "#Yes, precisely that's true. But here since dropna is being used, the NA values are not displayed when df.tail() is printed\n",
    "#an example of shift function: http://stackoverflow.com/questions/20095673/python-shift-column-in-pandas-dataframe-up-by-one\n",
    "\n",
    "df[\"label\"]=df[forecast_col].shift(-forecast_out)\n",
    "\n",
    "print (df.head())\n",
    "print (df.tail())"
   ]
  },
  {
   "cell_type": "code",
   "execution_count": 6,
   "metadata": {
    "collapsed": false
   },
   "outputs": [
    {
     "name": "stdout",
     "output_type": "stream",
     "text": [
      "3079 3079\n"
     ]
    },
    {
     "name": "stderr",
     "output_type": "stream",
     "text": [
      "c:\\users\\lisa\\appdata\\local\\programs\\python\\python35-32\\lib\\site-packages\\sklearn\\preprocessing\\data.py:167: UserWarning: Numerical issues were encountered when centering the data and might not be solved. Dataset may contain too large values. You may need to prescale your features.\n",
      "  warnings.warn(\"Numerical issues were encountered \"\n"
     ]
    }
   ],
   "source": [
    "#usually features is used as X, and label is y\n",
    "#drop axis=1 denotes that we are referring to a column, not a row: \n",
    "#http://chrisalbon.com/python/pandas_dropping_column_and_rows.html\n",
    "X=np.array(df.drop([\"label\"], 1))\n",
    "X=preprocessing.scale(X)\n",
    "X_lately=X[-forecast_out:]\n",
    "X=X[forecast_out:]\n",
    "df.dropna(inplace=True)\n",
    "y=np.array(df[\"label\"])\n",
    "#http://machinelearningmastery.com/rescaling-data-for-machine-learning-in-python-with-scikit-learn/\n",
    "#http://scikit-learn.org/stable/modules/preprocessing.html\n",
    "\n",
    "print (len(X), len(y))\n"
   ]
  },
  {
   "cell_type": "code",
   "execution_count": 10,
   "metadata": {
    "collapsed": false
   },
   "outputs": [
    {
     "name": "stdout",
     "output_type": "stream",
     "text": [
      "1.0\n",
      "32\n",
      "0.851505151688\n",
      "0.738417191661\n"
     ]
    }
   ],
   "source": [
    "X_train, X_test, y_train, y_test=cross_validation.train_test_split(X, y, test_size=0.2)\n",
    "#https://pythontips.com/2013/08/02/what-is-pickle-in-python/\n",
    "clf=LinearRegression () #n_jobs=-1 means using all CPUs\n",
    "clf.fit(X_train, y_train)\n",
    "with open(\"linearregression.pickle\", \"wb\") as f:\n",
    "    pickle.dump(clf, f)\n",
    "pickle_in = open(\"linearregression.pickle\", \"rb\")\n",
    "clf=pickle.load(pickle_in)\n",
    "    \n",
    "accuracy=clf.score(X_test, y_test)\n",
    "print (accuracy)\n",
    "#accuracy of forecasting 32 days in advance\n",
    "print (forecast_out)\n",
    "\n",
    "\n",
    "clf=svm.SVR()\n",
    "clf.fit(X_train, y_train)\n",
    "accuracy=clf.score(X_test, y_test)\n",
    "print (accuracy)\n",
    "\n",
    "clf=svm.SVR(kernel=\"poly\")\n",
    "clf.fit(X_train, y_train)\n",
    "accuracy=clf.score(X_test, y_test)\n",
    "print (accuracy)"
   ]
  },
  {
   "cell_type": "code",
   "execution_count": 8,
   "metadata": {
    "collapsed": false
   },
   "outputs": [
    {
     "name": "stdout",
     "output_type": "stream",
     "text": [
      "[ 771.66991011  910.59969842  685.11450464  718.09144784  716.63159753\n",
      "  726.10548368  763.39844706  749.74776685  761.38504172  764.86273968\n",
      "  763.08531804  779.97387328  744.19980884  766.16818083  751.38132324\n",
      "  718.61905625  694.4968945   742.93834807  729.61167518  788.45892257\n",
      "  781.78714742  839.94178717  833.24479971  830.75081488  847.9017587\n",
      "  844.42244961  828.07051978  842.01347283  868.74879237  843.06537067\n",
      "  855.49676394  854.62744901] 0.738791369637 32\n"
     ]
    }
   ],
   "source": [
    "forecast_set=clf.predict(X_lately)\n",
    "print (forecast_set, accuracy, forecast_out)"
   ]
  },
  {
   "cell_type": "code",
   "execution_count": 9,
   "metadata": {
    "collapsed": false
   },
   "outputs": [
    {
     "name": "stdout",
     "output_type": "stream",
     "text": [
      "2016-11-08 00:00:00\n",
      "1478592000.0\n",
      "            Adj. Close  HL_PCT  PCT_change  Adj. Volume  label    Forecast\n",
      "2016-12-06         NaN     NaN         NaN          NaN    NaN  842.013473\n",
      "2016-12-07         NaN     NaN         NaN          NaN    NaN  868.748792\n",
      "2016-12-08         NaN     NaN         NaN          NaN    NaN  843.065371\n",
      "2016-12-09         NaN     NaN         NaN          NaN    NaN  855.496764\n",
      "2016-12-10         NaN     NaN         NaN          NaN    NaN  854.627449\n"
     ]
    },
    {
     "data": {
      "image/png": "[encoded data removed]",
      "text/plain": [
       "<matplotlib.figure.Figure at 0x88be690>"
      ]
     },
     "metadata": {},
     "output_type": "display_data"
    }
   ],
   "source": [
    "df[\"Forecast\"] = np.nan\n",
    "last_date=df.iloc[-1].name\n",
    "print (last_date)\n",
    "last_unix=last_date.timestamp()\n",
    "print (last_unix)\n",
    "one_day=86400\n",
    "next_unix = last_unix + one_day\n",
    "for i in forecast_set:\n",
    "    next_date=datetime.datetime.fromtimestamp(next_unix)\n",
    "    next_unix += one_day\n",
    "    df.loc[next_date] = [np.nan for _ in range (len(df.columns)-1)] + [i]\n",
    "print (df.tail())\n",
    "df[\"Adj. Close\"].plot()\n",
    "df[\"Forecast\"].plot()\n",
    "plt.legend(loc=4)\n",
    "plt.xlabel(\"Date\")\n",
    "plt.ylabel(\"Price\")\n",
    "plt.show()"
   ]
  }
 ],
 "metadata": {
  "kernelspec": {
   "display_name": "Python 3",
   "language": "python",
   "name": "python3"
  },
  "language_info": {
   "codemirror_mode": {
    "name": "ipython",
    "version": 3
   },
   "file_extension": ".py",
   "mimetype": "text/x-python",
   "name": "python",
   "nbconvert_exporter": "python",
   "pygments_lexer": "ipython3",
   "version": "3.5.2"
  }
 },
 "nbformat": 4,
 "nbformat_minor": 1
}
